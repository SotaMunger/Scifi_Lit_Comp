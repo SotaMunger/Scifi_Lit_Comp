{
 "cells": [
  {
   "cell_type": "code",
   "execution_count": null,
   "metadata": {},
   "outputs": [],
   "source": [
    "import pyspark\n",
    "sc = pyspark.SparkContext(\"local\", \"sample\")"
   ]
  },
  {
   "cell_type": "code",
   "execution_count": null,
   "metadata": {},
   "outputs": [],
   "source": [
    "lit=sc.wholeTextFiles(\"lit\")\n",
    "ff=sc.wholeTextFiles(\"fanfic\")"
   ]
  },
  {
   "cell_type": "code",
   "execution_count": null,
   "metadata": {},
   "outputs": [],
   "source": [
    "#removing \\r characters, replace \\n with a space, removing ASCII characters\n",
    "lit=lit.map(lambda x: (x[0], x[1].replace('\\r', '')))\\\n",
    "    .map(lambda x: (x[0], x[1].replace('\\n', ' ')))\n",
    "    #.map(lambda x: (x[0], x[1].replace('\\\\', '')))\\\n",
    "    #.map(lambda x: (x[0], x[1].replace('|', '')))\\\n",
    "    #.map(lambda x: (x[0], x[1].replace('/', '')))\\\n",
    "    #.map(lambda x: (x[0], x[1].replace('_', '')))\\\n",
    "\n",
    "ff=ff.map(lambda x: (x[0], x[1].replace('\\r', '')))\\\n",
    "    .map(lambda x: (x[0], x[1].replace('\\n', ' ')))\n",
    "    #.map(lambda x: (x[0], x[1].replace('\\\\', '')))\\\n",
    "    #.map(lambda x: (x[0], x[1].replace('|', '')))\\\n",
    "    #.map(lambda x: (x[0], x[1].replace('/', '')))\\\n",
    "    #.map(lambda x: (x[0], x[1].replace('_', '')))\\"
   ]
  },
  {
   "cell_type": "code",
   "execution_count": null,
   "metadata": {},
   "outputs": [
    {
     "data": {
      "text/plain": [
       "[0, 176, 18, 0, 293, 0, 0, 0, 0, 0]"
      ]
     },
     "metadata": {},
     "output_type": "display_data"
    }
   ],
   "source": [
    "# quotes pipeline for classic lit\n",
    "\n",
    "lit2 = lit.map(lambda x: x[1])\n",
    "lit_quotes = lit2.map(lambda x: x.split('”'))\n",
    "lit_quotes2 = lit_quotes.map(lambda x: [(i,1) for i in x])\n",
    "lit_quotes3 = lit_quotes2.map(lambda x: [i[1] for i in x])\n",
    "\n",
    "def sum_lists(x):\n",
    "    sums = []\n",
    "    init = 0\n",
    "    for j in x:\n",
    "        init = init + j\n",
    "    sums.append(init)\n",
    "    return sums; \n",
    "\n",
    "lit_quotes4 = lit_quotes3.map(sum_lists)\n",
    "lit_quotes5 = lit_quotes4.flatMap(lambda x: x)\n",
    "lit_quotes6 = lit_quotes5.map(lambda x: x - 1)\n",
    "lit_quotes6.collect()"
   ]
  },
  {
   "cell_type": "code",
   "execution_count": null,
   "metadata": {},
   "outputs": [
    {
     "data": {
      "text/plain": [
       "[0, 0, 25, 64, 1, 0, 0, 22, 0, 25]"
      ]
     },
     "metadata": {},
     "output_type": "display_data"
    }
   ],
   "source": [
    "ff2 = ff.map(lambda x: x[1])\n",
    "ff_quotes = ff2.map(lambda x: x.split('”'))\n",
    "ff_quotes2 = ff_quotes.map(lambda x: [(i,1) for i in x])\n",
    "ff_quotes3 = ff_quotes2.map(lambda x: [i[1] for i in x])\n",
    "\n",
    "def sum_lists(x):\n",
    "    sums = []\n",
    "    init = 0\n",
    "    for j in x:\n",
    "        init = init + j\n",
    "    sums.append(init)\n",
    "    return sums; \n",
    "\n",
    "ff_quotes4 = ff_quotes3.map(sum_lists)\n",
    "ff_quotes5 = ff_quotes4.flatMap(lambda x: x)\n",
    "ff_quotes6 = ff_quotes5.map(lambda x: x - 1)\n",
    "ff_quotes6.collect()"
   ]
  },
  {
   "cell_type": "markdown",
   "metadata": {},
   "source": [
    "### Development Code"
   ]
  },
  {
   "cell_type": "code",
   "execution_count": null,
   "metadata": {},
   "outputs": [],
   "source": [
    "# erewhon1 = sc.wholeTextFiles(\"erewhon.txt\")\n",
    "# erewhon2_quotes = erewhon1.flatMap(lambda x: x[1].split('”'))\n",
    "\n",
    "# def to_tuple(x):\n",
    "#     return (x, 1)\n",
    "    \n",
    "# erewhon3_quotes = erewhon2_quotes.map(to_tuple)\n",
    "# erewhon4_quotes = erewhon3_quotes.map(lambda x: x[1]).sum()\n",
    "# erewhon_cquotes = erewhon4_quotes - 1\n",
    "# erewhon_cquotes"
   ]
  },
  {
   "cell_type": "code",
   "execution_count": null,
   "metadata": {},
   "outputs": [],
   "source": [
    "# erewhon2_periods = erewhon1.flatMap(lambda x: x[1].split('.'))\n",
    "# erewhon3_periods = erewhon2_periods.map(to_tuple)\n",
    "# erewhon4_periods = erewhon3_periods.map(lambda x: x[1]).sum()\n",
    "# erewhon_periods = erewhon4_periods - 1"
   ]
  },
  {
   "cell_type": "code",
   "execution_count": null,
   "metadata": {},
   "outputs": [],
   "source": [
    "# import re\n",
    "# erewhon2_puncts = erewhon1.flatMap(lambda x: re.split(',|-|:|;', x[1]))\n",
    "# erewhon3_puncts = erewhon2_puncts.map(to_tuple)\n",
    "# erewhon4_puncts = erewhon3_puncts.map(lambda x: x[1]).sum()\n",
    "# erewhon4_puncts"
   ]
  },
  {
   "cell_type": "code",
   "execution_count": null,
   "metadata": {},
   "outputs": [],
   "source": [
    "# erewhon2_words = erewhon1.flatMap(lambda x: x[1].split(' '))\n",
    "# erewhon3_words = erewhon2_words.map(to_tuple)\n",
    "# erewhon4_words = erewhon3_words.map(lambda x: x[1]).sum()\n",
    "# erewhon4_words"
   ]
  },
  {
   "cell_type": "code",
   "execution_count": null,
   "metadata": {},
   "outputs": [
    {
     "data": {
      "text/plain": [
       "0.0019392372333548805"
      ]
     },
     "metadata": {},
     "output_type": "display_data"
    }
   ],
   "source": [
    "# erewhon_cquotes/erewhon4_words\n",
    "# erewhon4_words/erewhon_periods\n",
    "# erewhon4_puncts/erewhon_periods"
   ]
  }
 ],
 "metadata": {
  "interpreter": {
   "hash": "d4d1e4263499bec80672ea0156c357c1ee493ec2b1c70f0acce89fc37c4a6abe"
  },
  "kernelspec": {
   "display_name": "Python 3.8.6 ('base')",
   "language": "python",
   "name": "python3"
  },
  "language_info": {
   "codemirror_mode": {
    "name": "ipython",
    "version": 3
   },
   "file_extension": ".py",
   "mimetype": "text/x-python",
   "name": "python",
   "nbconvert_exporter": "python",
   "pygments_lexer": "ipython3",
   "version": "3.8.6"
  },
  "orig_nbformat": 4
 },
 "nbformat": 4,
 "nbformat_minor": 2
}
