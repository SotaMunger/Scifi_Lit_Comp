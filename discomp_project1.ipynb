{
 "cells": [
  {
   "cell_type": "code",
   "execution_count": 1,
   "metadata": {},
   "outputs": [
    {
     "ename": "ModuleNotFoundError",
     "evalue": "No module named 'pyspark'",
     "output_type": "error",
     "traceback": [
      "\u001b[0;31m---------------------------------------------------------------------------\u001b[0m",
      "\u001b[0;31mModuleNotFoundError\u001b[0m                       Traceback (most recent call last)",
      "\u001b[0;32m/tmp/ipykernel_297630/1252474573.py\u001b[0m in \u001b[0;36m<module>\u001b[0;34m\u001b[0m\n\u001b[0;32m----> 1\u001b[0;31m \u001b[0;32mimport\u001b[0m \u001b[0mpyspark\u001b[0m\u001b[0;34m\u001b[0m\u001b[0;34m\u001b[0m\u001b[0m\n\u001b[0m\u001b[1;32m      2\u001b[0m \u001b[0msc\u001b[0m \u001b[0;34m=\u001b[0m \u001b[0mpyspark\u001b[0m\u001b[0;34m.\u001b[0m\u001b[0mSparkContext\u001b[0m\u001b[0;34m(\u001b[0m\u001b[0;34m\"local\"\u001b[0m\u001b[0;34m,\u001b[0m \u001b[0;34m\"sample\"\u001b[0m\u001b[0;34m)\u001b[0m\u001b[0;34m\u001b[0m\u001b[0;34m\u001b[0m\u001b[0m\n",
      "\u001b[0;31mModuleNotFoundError\u001b[0m: No module named 'pyspark'"
     ]
    }
   ],
   "source": [
    "import pyspark\n",
    "sc = pyspark.SparkContext(\"local\", \"sample\")"
   ]
  },
  {
   "cell_type": "code",
   "execution_count": 2,
   "metadata": {},
   "outputs": [],
   "source": [
    "lit=sc.wholeTextFiles(\"lit\")\n",
    "ff=sc.wholeTextFiles(\"fanfic\")"
   ]
  },
  {
   "cell_type": "code",
   "execution_count": 4,
   "metadata": {},
   "outputs": [],
   "source": [
    "#removing \\r characters, replace \\n with a space, replacing back/forwards quotes with neutral, removing ASCII characters (currently not working)\n",
    "lit=lit.map(lambda x: (x[0], x[1].replace('\\r', '')))\\\n",
    "    .map(lambda x: (x[0], x[1].replace('\\n', ' ')))\\\n",
    "    .map(lambda x: (x[0], x[1].replace('“', '\"')))\\\n",
    "    .map(lambda x: (x[0], x[1].replace('”', '\"')))\n",
    "    #.map(lambda x: (x[0], x[1].replace('\\\\', '')))\\\n",
    "    #.map(lambda x: (x[0], x[1].replace('|', '')))\\\n",
    "    #.map(lambda x: (x[0], x[1].replace('/', '')))\\\n",
    "    #.map(lambda x: (x[0], x[1].replace('_', '')))\\\n",
    "\n",
    "ff=ff.map(lambda x: (x[0], x[1].replace('\\r', '')))\\\n",
    "    .map(lambda x: (x[0], x[1].replace('\\n', ' ')))\\\n",
    "    .map(lambda x: (x[0], x[1].replace('“', '\"')))\\\n",
    "    .map(lambda x: (x[0], x[1].replace('”', '\"')))\n",
    "    #.map(lambda x: (x[0], x[1].replace('\\\\', '')))\\\n",
    "    #.map(lambda x: (x[0], x[1].replace('|', '')))\\\n",
    "    #.map(lambda x: (x[0], x[1].replace('/', '')))\\\n",
    "    #.map(lambda x: (x[0], x[1].replace('_', '')))\\"
   ]
  },
  {
   "cell_type": "code",
   "execution_count": 5,
   "metadata": {},
   "outputs": [
    {
     "name": "stderr",
     "output_type": "stream",
     "text": [
      "                                                                                \r"
     ]
    },
    {
     "data": {
      "text/plain": [
       "[0, 176, 18, 0, 293, 0, 0, 0, 0, 0]"
      ]
     },
     "execution_count": 5,
     "metadata": {},
     "output_type": "execute_result"
    }
   ],
   "source": [
    "# quotes pipeline for classic lit\n",
    "\n",
    "lit2 = lit.map(lambda x: x[1])\n",
    "lit_quotes1 = lit2.map(lambda x: x.split('\"'))\n",
    "lit_quotes2 = lit_quotes1.map(lambda x: [(i,1) for i in x])\n",
    "lit_quotes3 = lit_quotes2.map(lambda x: [i[1] for i in x])\n",
    "\n",
    "def sum_lists(x):\n",
    "    sums = []\n",
    "    init = 0\n",
    "    for j in x:\n",
    "        init = init + j\n",
    "    sums.append(init)\n",
    "    return sums; \n",
    "\n",
    "lit_quotes4 = lit_quotes3.map(sum_lists)\n",
    "lit_quotes5 = lit_quotes4.flatMap(lambda x: x)\n",
    "lit_quotes = lit_quotes5.map(lambda x: x - 1)\n",
    "lit_quotes.collect()"
   ]
  },
  {
   "cell_type": "code",
   "execution_count": 9,
   "metadata": {},
   "outputs": [
    {
     "data": {
      "text/plain": [
       "[1219, 32615, 10228, 5668, 75988, 12171, 80625, 6974, 70913, 41285]"
      ]
     },
     "execution_count": 9,
     "metadata": {},
     "output_type": "execute_result"
    }
   ],
   "source": [
    "# Word count pipeline for lit\n",
    "\n",
    "lit_words1 = lit2.map(lambda x: x.split(' '))\n",
    "lit_words2 = lit_words1.map(lambda x: [(i,1) for i in x])\n",
    "lit_words3 = lit_words2.map(lambda x: [i[1] for i in x])\n",
    "lit_words4 = lit_words3.map(sum_lists)\n",
    "lit_words = lit_words4.flatMap(lambda x: x)\n",
    "lit_words.collect()"
   ]
  },
  {
   "cell_type": "code",
   "execution_count": 11,
   "metadata": {},
   "outputs": [
    {
     "data": {
      "text/plain": [
       "[33, 1786, 222, 333, 2920, 805, 3903, 214, 2556, 1196]"
      ]
     },
     "execution_count": 11,
     "metadata": {},
     "output_type": "execute_result"
    }
   ],
   "source": [
    "# Periods pipeline for lit\n",
    "\n",
    "lit_pds1 = lit2.map(lambda x: x.split('.'))\n",
    "lit_pds2 = lit_pds1.map(lambda x: [(i,1) for i in x])\n",
    "lit_pds3 = lit_pds2.map(lambda x: [i[1] for i in x])\n",
    "lit_pds4 = lit_pds3.map(sum_lists)\n",
    "lit_pds5 = lit_pds4.flatMap(lambda x: x)\n",
    "lit_pds = lit_pds5.map(lambda x: x - 1)\n",
    "lit_pds.collect()"
   ]
  },
  {
   "cell_type": "code",
   "execution_count": 17,
   "metadata": {},
   "outputs": [
    {
     "data": {
      "text/plain": [
       "[143, 2548, 726, 513, 6098, 1285, 6708, 436, 6649, 4192]"
      ]
     },
     "execution_count": 17,
     "metadata": {},
     "output_type": "execute_result"
    }
   ],
   "source": [
    "# Punctuation pipeline for lit\n",
    "\n",
    "import re\n",
    "lit_puncts1 = lit2.map(lambda x: re.split(',|-|:|;', x))\n",
    "lit_puncts2 = lit_puncts1.map(lambda x: [(i,1) for i in x])\n",
    "lit_puncts3 = lit_puncts2.map(lambda x: [i[1] for i in x])\n",
    "lit_puncts4 = lit_puncts3.map(sum_lists)\n",
    "lit_puncts5 = lit_puncts4.flatMap(lambda x: x)\n",
    "lit_puncts = lit_puncts5.map(lambda x: x - 1)\n",
    "lit_puncts.collect()"
   ]
  },
  {
   "cell_type": "code",
   "execution_count": 27,
   "metadata": {},
   "outputs": [
    {
     "data": {
      "text/html": [
       "<div>\n",
       "<style scoped>\n",
       "    .dataframe tbody tr th:only-of-type {\n",
       "        vertical-align: middle;\n",
       "    }\n",
       "\n",
       "    .dataframe tbody tr th {\n",
       "        vertical-align: top;\n",
       "    }\n",
       "\n",
       "    .dataframe thead th {\n",
       "        text-align: right;\n",
       "    }\n",
       "</style>\n",
       "<table border=\"1\" class=\"dataframe\">\n",
       "  <thead>\n",
       "    <tr style=\"text-align: right;\">\n",
       "      <th></th>\n",
       "      <th>quote counts</th>\n",
       "      <th>prd counts</th>\n",
       "      <th>punct counts</th>\n",
       "      <th>word counts</th>\n",
       "      <th>quotes/word</th>\n",
       "      <th>words/prd</th>\n",
       "      <th>puncts/prd</th>\n",
       "    </tr>\n",
       "  </thead>\n",
       "  <tbody>\n",
       "    <tr>\n",
       "      <th>0</th>\n",
       "      <td>0</td>\n",
       "      <td>33</td>\n",
       "      <td>143</td>\n",
       "      <td>1219</td>\n",
       "      <td>0.000000</td>\n",
       "      <td>36.939394</td>\n",
       "      <td>4.333333</td>\n",
       "    </tr>\n",
       "    <tr>\n",
       "      <th>1</th>\n",
       "      <td>176</td>\n",
       "      <td>1786</td>\n",
       "      <td>2548</td>\n",
       "      <td>32615</td>\n",
       "      <td>0.005396</td>\n",
       "      <td>18.261478</td>\n",
       "      <td>1.426652</td>\n",
       "    </tr>\n",
       "    <tr>\n",
       "      <th>2</th>\n",
       "      <td>18</td>\n",
       "      <td>222</td>\n",
       "      <td>726</td>\n",
       "      <td>10228</td>\n",
       "      <td>0.001760</td>\n",
       "      <td>46.072072</td>\n",
       "      <td>3.270270</td>\n",
       "    </tr>\n",
       "    <tr>\n",
       "      <th>3</th>\n",
       "      <td>0</td>\n",
       "      <td>333</td>\n",
       "      <td>513</td>\n",
       "      <td>5668</td>\n",
       "      <td>0.000000</td>\n",
       "      <td>17.021021</td>\n",
       "      <td>1.540541</td>\n",
       "    </tr>\n",
       "    <tr>\n",
       "      <th>4</th>\n",
       "      <td>293</td>\n",
       "      <td>2920</td>\n",
       "      <td>6098</td>\n",
       "      <td>75988</td>\n",
       "      <td>0.003856</td>\n",
       "      <td>26.023288</td>\n",
       "      <td>2.088356</td>\n",
       "    </tr>\n",
       "    <tr>\n",
       "      <th>5</th>\n",
       "      <td>0</td>\n",
       "      <td>805</td>\n",
       "      <td>1285</td>\n",
       "      <td>12171</td>\n",
       "      <td>0.000000</td>\n",
       "      <td>15.119255</td>\n",
       "      <td>1.596273</td>\n",
       "    </tr>\n",
       "    <tr>\n",
       "      <th>6</th>\n",
       "      <td>0</td>\n",
       "      <td>3903</td>\n",
       "      <td>6708</td>\n",
       "      <td>80625</td>\n",
       "      <td>0.000000</td>\n",
       "      <td>20.657187</td>\n",
       "      <td>1.718678</td>\n",
       "    </tr>\n",
       "    <tr>\n",
       "      <th>7</th>\n",
       "      <td>0</td>\n",
       "      <td>214</td>\n",
       "      <td>436</td>\n",
       "      <td>6974</td>\n",
       "      <td>0.000000</td>\n",
       "      <td>32.588785</td>\n",
       "      <td>2.037383</td>\n",
       "    </tr>\n",
       "    <tr>\n",
       "      <th>8</th>\n",
       "      <td>0</td>\n",
       "      <td>2556</td>\n",
       "      <td>6649</td>\n",
       "      <td>70913</td>\n",
       "      <td>0.000000</td>\n",
       "      <td>27.743740</td>\n",
       "      <td>2.601330</td>\n",
       "    </tr>\n",
       "    <tr>\n",
       "      <th>9</th>\n",
       "      <td>0</td>\n",
       "      <td>1196</td>\n",
       "      <td>4192</td>\n",
       "      <td>41285</td>\n",
       "      <td>0.000000</td>\n",
       "      <td>34.519231</td>\n",
       "      <td>3.505017</td>\n",
       "    </tr>\n",
       "  </tbody>\n",
       "</table>\n",
       "</div>"
      ],
      "text/plain": [
       "   quote counts  prd counts  punct counts  word counts  quotes/word  \\\n",
       "0             0          33           143         1219     0.000000   \n",
       "1           176        1786          2548        32615     0.005396   \n",
       "2            18         222           726        10228     0.001760   \n",
       "3             0         333           513         5668     0.000000   \n",
       "4           293        2920          6098        75988     0.003856   \n",
       "5             0         805          1285        12171     0.000000   \n",
       "6             0        3903          6708        80625     0.000000   \n",
       "7             0         214           436         6974     0.000000   \n",
       "8             0        2556          6649        70913     0.000000   \n",
       "9             0        1196          4192        41285     0.000000   \n",
       "\n",
       "   words/prd  puncts/prd  \n",
       "0  36.939394    4.333333  \n",
       "1  18.261478    1.426652  \n",
       "2  46.072072    3.270270  \n",
       "3  17.021021    1.540541  \n",
       "4  26.023288    2.088356  \n",
       "5  15.119255    1.596273  \n",
       "6  20.657187    1.718678  \n",
       "7  32.588785    2.037383  \n",
       "8  27.743740    2.601330  \n",
       "9  34.519231    3.505017  "
      ]
     },
     "execution_count": 27,
     "metadata": {},
     "output_type": "execute_result"
    }
   ],
   "source": [
    "import pandas as pd\n",
    "\n",
    "lit_df = pd.DataFrame()\n",
    "lit_df['quote counts'] = lit_quotes.collect()\n",
    "lit_df['prd counts'] = lit_pds.collect()\n",
    "lit_df['punct counts'] = lit_puncts.collect()\n",
    "lit_df['word counts'] = lit_words.collect()\n",
    "lit_df['quotes/word'] = lit_df['quote counts']/lit_df['word counts']\n",
    "lit_df['words/prd'] = lit_df['word counts']/lit_df['prd counts']\n",
    "lit_df['puncts/prd'] = lit_df['punct counts']/lit_df['prd counts']\n",
    "lit_df"
   ]
  },
  {
   "cell_type": "code",
   "execution_count": null,
   "metadata": {},
   "outputs": [
    {
     "data": {
      "text/plain": [
       "[0, 0, 25, 64, 1, 0, 0, 22, 0, 25]"
      ]
     },
     "metadata": {},
     "output_type": "display_data"
    }
   ],
   "source": [
    "# quotes pipeline for fanfic\n",
    "\n",
    "ff2 = ff.map(lambda x: x[1])\n",
    "ff_quotes1 = ff2.map(lambda x: x.split('”'))\n",
    "ff_quotes2 = ff_quotes1.map(lambda x: [(i,1) for i in x])\n",
    "ff_quotes3 = ff_quotes2.map(lambda x: [i[1] for i in x])\n",
    "\n",
    "def sum_lists(x):\n",
    "    sums = []\n",
    "    init = 0\n",
    "    for j in x:\n",
    "        init = init + j\n",
    "    sums.append(init)\n",
    "    return sums; \n",
    "\n",
    "ff_quotes4 = ff_quotes3.map(sum_lists)\n",
    "ff_quotes5 = ff_quotes4.flatMap(lambda x: x)\n",
    "ff_quotes = ff_quotes5.map(lambda x: x - 1)\n",
    "ff_quotes.collect()"
   ]
  },
  {
   "cell_type": "code",
   "execution_count": null,
   "metadata": {},
   "outputs": [
    {
     "data": {
      "text/plain": [
       "[6779, 4131, 2315, 2628, 2454, 731, 7012, 3206, 758, 2820]"
      ]
     },
     "metadata": {},
     "output_type": "display_data"
    }
   ],
   "source": [
    "# Word count pipeline for fanfic\n",
    "\n",
    "ff_words1 = ff2.map(lambda x: x.split(' '))\n",
    "ff_words2 = ff_words1.map(lambda x: [(i,1) for i in x])\n",
    "ff_words3 = ff_words2.map(lambda x: [i[1] for i in x])\n",
    "ff_words4 = ff_words3.map(sum_lists)\n",
    "ff_words = ff_words4.flatMap(lambda x: x)\n",
    "ff_words.collect()"
   ]
  },
  {
   "cell_type": "code",
   "execution_count": 19,
   "metadata": {},
   "outputs": [
    {
     "data": {
      "text/plain": [
       "[506, 232, 163, 182, 162, 61, 763, 269, 46, 115]"
      ]
     },
     "execution_count": 19,
     "metadata": {},
     "output_type": "execute_result"
    }
   ],
   "source": [
    "# Periods pipeline for lit\n",
    "\n",
    "ff_pds1 = ff2.map(lambda x: x.split('.'))\n",
    "ff_pds2 = ff_pds1.map(lambda x: [(i,1) for i in x])\n",
    "ff_pds3 = ff_pds2.map(lambda x: [i[1] for i in x])\n",
    "ff_pds4 = ff_pds3.map(sum_lists)\n",
    "ff_pds5 = ff_pds4.flatMap(lambda x: x)\n",
    "ff_pds = ff_pds5.map(lambda x: x - 1)\n",
    "ff_pds.collect()"
   ]
  },
  {
   "cell_type": "code",
   "execution_count": 20,
   "metadata": {},
   "outputs": [
    {
     "data": {
      "text/plain": [
       "[529, 244, 174, 167, 158, 30, 597, 191, 34, 149]"
      ]
     },
     "execution_count": 20,
     "metadata": {},
     "output_type": "execute_result"
    }
   ],
   "source": [
    "# Punctuation pipeline for lit\n",
    "\n",
    "import re\n",
    "ff_puncts1 = ff2.map(lambda x: re.split(',|-|:|;', x))\n",
    "ff_puncts2 = ff_puncts1.map(lambda x: [(i,1) for i in x])\n",
    "ff_puncts3 = ff_puncts2.map(lambda x: [i[1] for i in x])\n",
    "ff_puncts4 = ff_puncts3.map(sum_lists)\n",
    "ff_puncts5 = ff_puncts4.flatMap(lambda x: x)\n",
    "ff_puncts = ff_puncts5.map(lambda x: x - 1)\n",
    "ff_puncts.collect()"
   ]
  },
  {
   "cell_type": "code",
   "execution_count": 28,
   "metadata": {},
   "outputs": [
    {
     "data": {
      "text/html": [
       "<div>\n",
       "<style scoped>\n",
       "    .dataframe tbody tr th:only-of-type {\n",
       "        vertical-align: middle;\n",
       "    }\n",
       "\n",
       "    .dataframe tbody tr th {\n",
       "        vertical-align: top;\n",
       "    }\n",
       "\n",
       "    .dataframe thead th {\n",
       "        text-align: right;\n",
       "    }\n",
       "</style>\n",
       "<table border=\"1\" class=\"dataframe\">\n",
       "  <thead>\n",
       "    <tr style=\"text-align: right;\">\n",
       "      <th></th>\n",
       "      <th>quote counts</th>\n",
       "      <th>prd counts</th>\n",
       "      <th>punct counts</th>\n",
       "      <th>word counts</th>\n",
       "      <th>quotes/word</th>\n",
       "      <th>words/prd</th>\n",
       "      <th>puncts/prd</th>\n",
       "    </tr>\n",
       "  </thead>\n",
       "  <tbody>\n",
       "    <tr>\n",
       "      <th>0</th>\n",
       "      <td>0</td>\n",
       "      <td>506</td>\n",
       "      <td>529</td>\n",
       "      <td>6779</td>\n",
       "      <td>0.000000</td>\n",
       "      <td>13.397233</td>\n",
       "      <td>1.045455</td>\n",
       "    </tr>\n",
       "    <tr>\n",
       "      <th>1</th>\n",
       "      <td>0</td>\n",
       "      <td>232</td>\n",
       "      <td>244</td>\n",
       "      <td>4131</td>\n",
       "      <td>0.000000</td>\n",
       "      <td>17.806034</td>\n",
       "      <td>1.051724</td>\n",
       "    </tr>\n",
       "    <tr>\n",
       "      <th>2</th>\n",
       "      <td>25</td>\n",
       "      <td>163</td>\n",
       "      <td>174</td>\n",
       "      <td>2315</td>\n",
       "      <td>0.010799</td>\n",
       "      <td>14.202454</td>\n",
       "      <td>1.067485</td>\n",
       "    </tr>\n",
       "    <tr>\n",
       "      <th>3</th>\n",
       "      <td>64</td>\n",
       "      <td>182</td>\n",
       "      <td>167</td>\n",
       "      <td>2628</td>\n",
       "      <td>0.024353</td>\n",
       "      <td>14.439560</td>\n",
       "      <td>0.917582</td>\n",
       "    </tr>\n",
       "    <tr>\n",
       "      <th>4</th>\n",
       "      <td>1</td>\n",
       "      <td>162</td>\n",
       "      <td>158</td>\n",
       "      <td>2454</td>\n",
       "      <td>0.000407</td>\n",
       "      <td>15.148148</td>\n",
       "      <td>0.975309</td>\n",
       "    </tr>\n",
       "    <tr>\n",
       "      <th>5</th>\n",
       "      <td>0</td>\n",
       "      <td>61</td>\n",
       "      <td>30</td>\n",
       "      <td>731</td>\n",
       "      <td>0.000000</td>\n",
       "      <td>11.983607</td>\n",
       "      <td>0.491803</td>\n",
       "    </tr>\n",
       "    <tr>\n",
       "      <th>6</th>\n",
       "      <td>0</td>\n",
       "      <td>763</td>\n",
       "      <td>597</td>\n",
       "      <td>7012</td>\n",
       "      <td>0.000000</td>\n",
       "      <td>9.190039</td>\n",
       "      <td>0.782438</td>\n",
       "    </tr>\n",
       "    <tr>\n",
       "      <th>7</th>\n",
       "      <td>22</td>\n",
       "      <td>269</td>\n",
       "      <td>191</td>\n",
       "      <td>3206</td>\n",
       "      <td>0.006862</td>\n",
       "      <td>11.918216</td>\n",
       "      <td>0.710037</td>\n",
       "    </tr>\n",
       "    <tr>\n",
       "      <th>8</th>\n",
       "      <td>0</td>\n",
       "      <td>46</td>\n",
       "      <td>34</td>\n",
       "      <td>758</td>\n",
       "      <td>0.000000</td>\n",
       "      <td>16.478261</td>\n",
       "      <td>0.739130</td>\n",
       "    </tr>\n",
       "    <tr>\n",
       "      <th>9</th>\n",
       "      <td>25</td>\n",
       "      <td>115</td>\n",
       "      <td>149</td>\n",
       "      <td>2820</td>\n",
       "      <td>0.008865</td>\n",
       "      <td>24.521739</td>\n",
       "      <td>1.295652</td>\n",
       "    </tr>\n",
       "  </tbody>\n",
       "</table>\n",
       "</div>"
      ],
      "text/plain": [
       "   quote counts  prd counts  punct counts  word counts  quotes/word  \\\n",
       "0             0         506           529         6779     0.000000   \n",
       "1             0         232           244         4131     0.000000   \n",
       "2            25         163           174         2315     0.010799   \n",
       "3            64         182           167         2628     0.024353   \n",
       "4             1         162           158         2454     0.000407   \n",
       "5             0          61            30          731     0.000000   \n",
       "6             0         763           597         7012     0.000000   \n",
       "7            22         269           191         3206     0.006862   \n",
       "8             0          46            34          758     0.000000   \n",
       "9            25         115           149         2820     0.008865   \n",
       "\n",
       "   words/prd  puncts/prd  \n",
       "0  13.397233    1.045455  \n",
       "1  17.806034    1.051724  \n",
       "2  14.202454    1.067485  \n",
       "3  14.439560    0.917582  \n",
       "4  15.148148    0.975309  \n",
       "5  11.983607    0.491803  \n",
       "6   9.190039    0.782438  \n",
       "7  11.918216    0.710037  \n",
       "8  16.478261    0.739130  \n",
       "9  24.521739    1.295652  "
      ]
     },
     "execution_count": 28,
     "metadata": {},
     "output_type": "execute_result"
    }
   ],
   "source": [
    "ff_df = pd.DataFrame()\n",
    "ff_df['quote counts'] = ff_quotes.collect()\n",
    "ff_df['prd counts'] = ff_pds.collect()\n",
    "ff_df['punct counts'] = ff_puncts.collect()\n",
    "ff_df['word counts'] = ff_words.collect()\n",
    "ff_df['quotes/word'] = ff_df['quote counts']/ff_df['word counts']\n",
    "ff_df['words/prd'] = ff_df['word counts']/ff_df['prd counts']\n",
    "ff_df['puncts/prd'] = ff_df['punct counts']/ff_df['prd counts']\n",
    "ff_df"
   ]
  },
  {
   "cell_type": "code",
   "execution_count": 31,
   "metadata": {},
   "outputs": [
    {
     "data": {
      "text/plain": [
       "4.65737052494031"
      ]
     },
     "execution_count": 31,
     "metadata": {},
     "output_type": "execute_result"
    }
   ],
   "source": [
    "ff_df['quotes/word'].mean()/lit_df['quotes/word'].mean()"
   ]
  },
  {
   "cell_type": "code",
   "execution_count": 32,
   "metadata": {},
   "outputs": [
    {
     "data": {
      "text/plain": [
       "0.5422358928457621"
      ]
     },
     "metadata": {},
     "output_type": "display_data"
    }
   ],
   "source": [
    "ff_df['words/prd'].mean()/lit_df['words/prd'].mean()"
   ]
  },
  {
   "cell_type": "code",
   "execution_count": 33,
   "metadata": {},
   "outputs": [
    {
     "data": {
      "text/plain": [
       "0.3763445526175359"
      ]
     },
     "metadata": {},
     "output_type": "display_data"
    }
   ],
   "source": [
    "ff_df['puncts/prd'].mean()/lit_df['puncts/prd'].mean()"
   ]
  },
  {
   "cell_type": "markdown",
   "metadata": {},
   "source": [
    "### Development Code"
   ]
  },
  {
   "cell_type": "code",
   "execution_count": null,
   "metadata": {},
   "outputs": [],
   "source": [
    "# erewhon1 = sc.wholeTextFiles(\"erewhon.txt\")\n",
    "# erewhon2_quotes = erewhon1.flatMap(lambda x: x[1].split('”'))\n",
    "\n",
    "# def to_tuple(x):\n",
    "#     return (x, 1)\n",
    "    \n",
    "# erewhon3_quotes = erewhon2_quotes.map(to_tuple)\n",
    "# erewhon4_quotes = erewhon3_quotes.map(lambda x: x[1]).sum()\n",
    "# erewhon_cquotes = erewhon4_quotes - 1\n",
    "# erewhon_cquotes"
   ]
  },
  {
   "cell_type": "code",
   "execution_count": null,
   "metadata": {},
   "outputs": [],
   "source": [
    "# erewhon2_periods = erewhon1.flatMap(lambda x: x[1].split('.'))\n",
    "# erewhon3_periods = erewhon2_periods.map(to_tuple)\n",
    "# erewhon4_periods = erewhon3_periods.map(lambda x: x[1]).sum()\n",
    "# erewhon_periods = erewhon4_periods - 1"
   ]
  },
  {
   "cell_type": "code",
   "execution_count": null,
   "metadata": {},
   "outputs": [],
   "source": [
    "# import re\n",
    "# erewhon2_puncts = erewhon1.flatMap(lambda x: re.split(',|-|:|;', x[1]))\n",
    "# erewhon3_puncts = erewhon2_puncts.map(to_tuple)\n",
    "# erewhon4_puncts = erewhon3_puncts.map(lambda x: x[1]).sum()\n",
    "# erewhon4_puncts"
   ]
  },
  {
   "cell_type": "code",
   "execution_count": null,
   "metadata": {},
   "outputs": [],
   "source": [
    "# erewhon2_words = erewhon1.flatMap(lambda x: x[1].split(' '))\n",
    "# erewhon3_words = erewhon2_words.map(to_tuple)\n",
    "# erewhon4_words = erewhon3_words.map(lambda x: x[1]).sum()\n",
    "# erewhon4_words"
   ]
  },
  {
   "cell_type": "code",
   "execution_count": null,
   "metadata": {},
   "outputs": [
    {
     "data": {
      "text/plain": [
       "0.0019392372333548805"
      ]
     },
     "metadata": {},
     "output_type": "display_data"
    }
   ],
   "source": [
    "# erewhon_cquotes/erewhon4_words\n",
    "# erewhon4_words/erewhon_periods\n",
    "# erewhon4_puncts/erewhon_periods"
   ]
  }
 ],
 "metadata": {
  "interpreter": {
   "hash": "d4d1e4263499bec80672ea0156c357c1ee493ec2b1c70f0acce89fc37c4a6abe"
  },
  "kernelspec": {
   "display_name": "Python 3.8.6 ('base')",
   "language": "python",
   "name": "python3"
  },
  "language_info": {
   "codemirror_mode": {
    "name": "ipython",
    "version": 3
   },
   "file_extension": ".py",
   "mimetype": "text/x-python",
   "name": "python",
   "nbconvert_exporter": "python",
   "pygments_lexer": "ipython3",
   "version": "3.9.5"
  },
  "orig_nbformat": 4
 },
 "nbformat": 4,
 "nbformat_minor": 2
}
